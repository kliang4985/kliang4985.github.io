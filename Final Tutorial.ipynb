{
 "cells": [
  {
   "cell_type": "markdown",
   "id": "52ffeb02",
   "metadata": {},
   "source": [
    "# Final Tutorial: Analysis of Esports Earnings Across Different Games"
   ]
  },
  {
   "cell_type": "markdown",
   "id": "a6fedd2a",
   "metadata": {},
   "source": [
    "Kevin Liang, Kevin Lopoi, Jordan Marry"
   ]
  },
  {
   "cell_type": "markdown",
   "id": "33b7147c",
   "metadata": {},
   "source": [
    "## Introduction: eSports \n",
    "\n",
    "Over the last decade, the the gaming industry has become more and more popular. This large influx in popularity resulted in a boom in the competitve gaming scene, known as eSports. eSports is defined as a form of organized sport competition which involves video games, and is typically between professional players in an individual or a team setting.\n",
    "\n",
    "While compeitions have always been popular in gaming culture, there wasn't particularly a \"professional scene\" for video games. Until the late 2000s, competitions have been mostly among amateurs. As more and more people began playing video games and video games become more popularized in our everyday life, viewers for tournaments and video game content in general began increasing as well. However, by the 2010s, eSports have become a \"signficiant factor\" in the video game industry as companies began to follow a \"franchise approach\" used in North American sports where there are financial sponsors looking to support teams.\n",
    "\n",
    "Even to this day, eSports viewership has continued to increase as monthly eSports viewers have increased by 11.4% from 2020. The integration to popular culture and utilization of media outlets all contribute to this growth, and eSports organizations have produced many competitive organizers not only filled with players, but also influencers.\n",
    "From 2017 to 2018, investments in the industry have skyrocketed from \\\\$490 million all the way to \\\\$4.5 billion. These investments are distributed across teams and players across many different games. Projections for this year has the industry on track to \"surpass 1 billion dollars in revenue and hit 1.8 billion by 2022 according to Newzoo.\n",
    "Read more about the growing revenue stream here: \n",
    "https://www.insiderintelligence.com/insights/esports-ecosystem-market-report/\n",
    "This large amount of money does include sponsorships, advertisements, on top of tournament earnings itself. \n",
    "\n",
    "This dataset will look at tournament earnings alone, across 10 of the most popular games in the past decade:\n",
    "Dota2, Counter-Strike: Global Offensive, Fortnite, League of Legends, Starcraft II, Overwatch, PUBG, Hearthstone, Heroes of the Storm, Arena of Valor\n",
    "\n",
    "If you are curious and want to know more about the eSports industry, you can find out more at: \n",
    "https://en.wikipedia.org/wiki/Esports\n",
    "\n",
    "## Purpose\n",
    "This tutorial will involve utilizing techniques utilized in data science to analyze a data set containing the three CSV files for the \"Highest Earning Players\", \"Highest Earning Teams\", and a set of Countries and Continents to match the data with. \n",
    "\n",
    "The data will inlcude the"
   ]
  },
  {
   "cell_type": "code",
   "execution_count": 147,
   "id": "5c106be3",
   "metadata": {},
   "outputs": [],
   "source": [
    "import pandas as pd\n",
    "import re\n",
    "import numpy as np\n",
    "import requests\n",
    "\n",
    "from requests.adapters import HTTPAdapter\n",
    "from requests.packages.urllib3.util.retry import Retry\n",
    "from bs4 import BeautifulSoup"
   ]
  },
  {
   "cell_type": "code",
   "execution_count": null,
   "id": "cf2480c7",
   "metadata": {},
   "outputs": [],
   "source": [
    "# Grabbing data from 2010 till now\n",
    "\n",
    "years = [\"2010\",\"2011\",\"2012\",\"2013\",\"2014\",\"2015\",\"2016\",\"2017\",\"2018\",\"2019\",\"2020\",\"2021\"]\n",
    "dfs = []\n",
    "\n",
    "\n",
    "session = requests.Session()\n",
    "retry = Retry(connect=10, backoff_factor=0.5)\n",
    "adapter = HTTPAdapter(max_retries=retry)\n",
    "session.mount('http://', adapter)\n",
    "session.mount('https://', adapter)\n",
    "\n",
    "# Grabbing all the top 100 players from 2010-2021\n",
    "for i in years:\n",
    "    # players\n",
    "    url = \"https://www.esportsearnings.com/history/\" + i + \"/top_players\"\n",
    "    page = session.get(url)\n",
    "    root = BeautifulSoup(page.content)\n",
    "    root.prettify()\n",
    "    table = root.find(\"table\")\n",
    "    \n",
    "    rows = table.findAll('tr')\n",
    "    headers = rows[0].findAll('td')\n",
    "    headers = headers[1:]\n",
    "    cols = []\n",
    "    for head in headers:\n",
    "        cols.append(head.text.strip())\n",
    "    \n",
    "    cols.insert(0, \"Rank\")\n",
    "    cols.insert(1, \"Year\")\n",
    "    cols.insert(2, \"Country\")\n",
    "    cols[3] = \"In-Game Name\"\n",
    "    cols.append(\"Game\")\n",
    "    cols.append(\"# of Tournaments\")\n",
    "    cols.remove(\"% of Total\")\n",
    "    \n",
    "    players = rows[1:]\n",
    "    \n",
    "    rank = []\n",
    "    country = []\n",
    "    ign = []\n",
    "    player_name = []\n",
    "    total_year = []\n",
    "    total_overall = []\n",
    "    games = []\n",
    "    tournaments = []\n",
    "    \n",
    "    for player in players:\n",
    "        infos = player.findAll('td')\n",
    "        rank.append(infos[0].text.strip())\n",
    "        country.append(infos[1].find('img').get('title'))\n",
    "        ign.append(infos[1].text.strip())\n",
    "        player_name.append(infos[2].text.strip())\n",
    "        total_year.append(infos[3].text.strip())\n",
    "        total_overall.append(infos[4].text.strip())\n",
    "        links = infos[1].findAll('a')\n",
    "        url2 = \"https://www.esportsearnings.com/\" + links[1].get('href')\n",
    "        page = session.get(url2)\n",
    "        root = BeautifulSoup(page.content)\n",
    "        title = root.find(\"h1\")\n",
    "        title = title.text.strip()\n",
    "        games.append(title)\n",
    "        \n",
    "        #tourney = root.findAll('div', {'class' : 'format_cell info_text_value'})\n",
    "        \n",
    "        tourney = root.find_all(text=re.compile(' From ' + r'[0-9]+' + ' Tournament'))\n",
    "        stri = tourney[0].split()\n",
    "        tournaments.append(stri[1])\n",
    "        \n",
    "        \n",
    "        \n",
    "    \n",
    "    df = pd.DataFrame(columns = cols)\n",
    "    df['Rank'] = rank\n",
    "    df['Year'] = i\n",
    "    df['Country'] = country\n",
    "    df['In-Game Name'] = ign\n",
    "    df['Player Name'] = player_name\n",
    "    df['Total (Year)'] = total_year\n",
    "    df['Total (Overall)'] = total_overall\n",
    "    df['Game'] = games\n",
    "    df['# of Tournaments'] = tournaments\n",
    "    \n",
    "    dfs.append(df)\n",
    "    \n"
   ]
  },
  {
   "cell_type": "code",
   "execution_count": null,
   "id": "aa7c964c",
   "metadata": {
    "scrolled": true
   },
   "outputs": [],
   "source": [
    "df = pd.concat(dfs)\n",
    "df.to_csv('players.csv')"
   ]
  },
  {
   "cell_type": "code",
   "execution_count": null,
   "id": "0b804b96",
   "metadata": {},
   "outputs": [],
   "source": [
    "df = pd.read_csv('players.csv')\n",
    "df.drop('Unnamed: 0', axis=1, inplace=True)"
   ]
  },
  {
   "cell_type": "code",
   "execution_count": null,
   "id": "2df904fd",
   "metadata": {},
   "outputs": [],
   "source": [
    "games = df['Game'].str.split(\"- \")\n",
    "df['Game'] = games"
   ]
  },
  {
   "cell_type": "code",
   "execution_count": null,
   "id": "21873f6a",
   "metadata": {},
   "outputs": [],
   "source": [
    "df = df.astype({\"Rank\": int})"
   ]
  },
  {
   "cell_type": "code",
   "execution_count": null,
   "id": "0e7f19fd",
   "metadata": {},
   "outputs": [],
   "source": [
    "for i in range(0,len(df)):\n",
    "    df.at[i,'Game'] = df.loc[:, \"Game\"][i][-1]"
   ]
  },
  {
   "cell_type": "code",
   "execution_count": null,
   "id": "d1b8ed96",
   "metadata": {},
   "outputs": [],
   "source": [
    "df['Game'] = df['Game'].str.replace(\" Player\",\"\")\n",
    "df"
   ]
  },
  {
   "cell_type": "code",
   "execution_count": null,
   "id": "3b1bb7c4",
   "metadata": {},
   "outputs": [],
   "source": []
  }
 ],
 "metadata": {
  "kernelspec": {
   "display_name": "Python 3 (ipykernel)",
   "language": "python",
   "name": "python3"
  },
  "language_info": {
   "codemirror_mode": {
    "name": "ipython",
    "version": 3
   },
   "file_extension": ".py",
   "mimetype": "text/x-python",
   "name": "python",
   "nbconvert_exporter": "python",
   "pygments_lexer": "ipython3",
   "version": "3.9.6"
  }
 },
 "nbformat": 4,
 "nbformat_minor": 5
}
