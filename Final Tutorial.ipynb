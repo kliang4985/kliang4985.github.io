{
 "cells": [
  {
   "cell_type": "markdown",
   "id": "52ffeb02",
   "metadata": {},
   "source": [
    "# Final Tutorial: Analysis of Esports Earnings Across Different Games"
   ]
  },
  {
   "cell_type": "markdown",
   "id": "a6fedd2a",
   "metadata": {},
   "source": [
    "Kevin Liang, Kevin Lopoi, Jordan Marry"
   ]
  },
  {
   "cell_type": "markdown",
   "id": "33b7147c",
   "metadata": {},
   "source": [
    "## Introduction: eSports \n",
    "\n",
    "Over the last decade, the the gaming industry has become more and more popular. This large influx in popularity resulted in a boom in the competitve gaming scene, known as eSports. eSports is defined as a form of organized sport competition which involves video games, and is typically between professional players in an individual or a team setting.\n",
    "\n",
    "While compeitions have always been popular in gaming culture, there wasn't particularly a \"professional scene\" for video games. Until the late 2000s, competitions have been mostly among amateurs. As more and more people began playing video games and video games become more popularized in our everyday life, viewers for tournaments and video game content in general began increasing as well. However, by the 2010s, eSports have become a \"signficiant factor\" in the video game industry as companies began to follow a \"franchise approach\" used in North American sports where there are financial sponsors looking to support teams.\n",
    "\n",
    "Even to this day, eSports viewership has continued to increase as monthly eSports viewers have increased by 11.4% from 2020. The integration to popular culture and utilization of media outlets all contribute to this growth, and eSports organizations have produced many competitive organizers not only filled with players, but also influencers.\n",
    "From 2017 to 2018, investments in the industry have skyrocketed from $490 million all the way to $4.5 billion. These investments are distributed across teams and players across many different games. Projections for this year has the industry on track to \"surpass 1 billion dollars in revenue and hit 1.8 billion by 2022 according to Newzoo.\n",
    "Read more about the growing revenue stream here: \n",
    "https://www.insiderintelligence.com/insights/esports-ecosystem-market-report/\n",
    "This large amount of money does include sponsorships, advertisements, on top of tournament earnings itself. \n",
    "\n",
    "This dataset will look at tournament earnings alone, across 10 of the most popular games in the past decade:\n",
    "Dota2, Counter-Strike: Global Offensive, Fortnite, League of Legends, Starcraft II, Overwatch, PUBG, Hearthstone, Heroes of the Storm, Arena of Valor\n",
    "\n",
    "If you are curious and want to know more about the eSports industry, you can find out more at: \n",
    "https://en.wikipedia.org/wiki/Esports\n",
    "\n",
    "## Purpose\n",
    "This tutorial will involve utilizing techniques utilized in data science to analyze a data set containing the three CSV files for the \"Highest Earning Players\", \"Highest Earning Teams\", and a set of Countries and Continents to match the data with. \n",
    "\n",
    "The data will inlcude the"
   ]
  },
  {
   "cell_type": "code",
   "execution_count": null,
   "id": "5c106be3",
   "metadata": {},
   "outputs": [],
   "source": []
  }
 ],
 "metadata": {
  "kernelspec": {
   "display_name": "Python 3 (ipykernel)",
   "language": "python",
   "name": "python3"
  },
  "language_info": {
   "codemirror_mode": {
    "name": "ipython",
    "version": 3
   },
   "file_extension": ".py",
   "mimetype": "text/x-python",
   "name": "python",
   "nbconvert_exporter": "python",
   "pygments_lexer": "ipython3",
   "version": "3.9.6"
  }
 },
 "nbformat": 4,
 "nbformat_minor": 5
}
